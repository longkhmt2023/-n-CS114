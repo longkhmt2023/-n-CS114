{
 "cells": [
  {
   "cell_type": "code",
   "execution_count": 1,
   "id": "c5fc4330",
   "metadata": {},
   "outputs": [],
   "source": [
    "import os\n",
    "import glob\n",
    "import torch\n",
    "import torch.nn as nn\n",
    "import torch.nn.functional as F\n",
    "from torch.utils.data import Dataset, DataLoader\n",
    "from PIL import Image\n",
    "import torchvision.transforms as transforms\n",
    "import csv"
   ]
  },
  {
   "cell_type": "code",
   "execution_count": 2,
   "id": "07080f6b",
   "metadata": {},
   "outputs": [],
   "source": [
    "class MyDigitDataset(Dataset):\n",
    "    def __init__(self, root_dir, transform=None):\n",
    "        self.transform = transform\n",
    "        image_paths = []\n",
    "        for ext in ('*.jpg', '*.jpeg', '*.png'):\n",
    "            image_paths.extend(glob.glob(os.path.join(root_dir, '*', 'hand_written_digit', '*', ext)))\n",
    "        self.image_paths = image_paths\n",
    "\n",
    "    def __len__(self):\n",
    "        return len(self.image_paths)\n",
    "\n",
    "    def __getitem__(self, idx):\n",
    "        img_path = self.image_paths[idx]\n",
    "        image = Image.open(img_path).convert(\"RGB\")\n",
    "        label = int(os.path.basename(img_path).split('_')[0])\n",
    "        if self.transform:\n",
    "            image = self.transform(image)\n",
    "        return image, label\n",
    "\n",
    "class MyTestDataset(Dataset):\n",
    "    def __init__(self, folder, transform=None):\n",
    "        self.transform = transform\n",
    "        self.image_paths = []\n",
    "        for ext in ('*.jpg', '*.jpeg', '*.png'):\n",
    "            self.image_paths.extend(glob.glob(os.path.join(folder, ext)))\n",
    "\n",
    "    def __len__(self):\n",
    "        return len(self.image_paths)\n",
    "\n",
    "    def __getitem__(self, idx):\n",
    "        while idx < len(self.image_paths):\n",
    "            img_path = self.image_paths[idx]\n",
    "            try:\n",
    "                image = Image.open(img_path).convert(\"RGB\")\n",
    "                if self.transform:\n",
    "                    image = self.transform(image)\n",
    "                return image, img_path\n",
    "            except Exception:\n",
    "                idx += 1  # Bỏ qua ảnh lỗi, thử ảnh tiếp theo\n",
    "        raise IndexError(\"No valid image found at or after index {}\".format(idx))"
   ]
  },
  {
   "cell_type": "code",
   "execution_count": 3,
   "id": "1d1c2e9c",
   "metadata": {},
   "outputs": [],
   "source": [
    "transformtrain = transforms.Compose([\n",
    "    transforms.Resize((32, 32)),\n",
    "     \n",
    "    transforms.ToTensor(),\n",
    "    transforms.Normalize((0.5,), (0.5,))\n",
    "])\n",
    "transformtest =transforms.Compose([\n",
    "    transforms.Resize((32, 32)),\n",
    "    transforms.ToTensor(),\n",
    "    transforms.Normalize((0.5,), (0.5,))\n",
    "])"
   ]
  },
  {
   "cell_type": "code",
   "execution_count": 4,
   "id": "774e7e2b",
   "metadata": {},
   "outputs": [],
   "source": [
    "root_path = r'C:\\Users\\Admin\\Desktop\\python\\doan'\n",
    "traindata = MyDigitDataset(root_path, transform=transformtrain)\n",
    "dataloader = DataLoader(traindata, batch_size=64, shuffle=True, num_workers=0)\n",
    "\n",
    "test_folder = r'C:\\Users\\Admin\\Desktop\\python\\MUOINGAN'\n",
    "testdata = MyTestDataset(test_folder, transform=transformtest)\n",
    "test_loader = DataLoader(testdata, batch_size=64,num_workers=0, shuffle=False)"
   ]
  },
  {
   "cell_type": "code",
   "execution_count": 5,
   "id": "fce2efa0",
   "metadata": {},
   "outputs": [],
   "source": [
    "class SimpleCNN(nn.Module):\n",
    "    def __init__(self, num_classes=10):\n",
    "        super(SimpleCNN, self).__init__()\n",
    "        self.conv1 = nn.Conv2d(3, 32, kernel_size=3, padding=1)\n",
    "        self.conv2 = nn.Conv2d(32, 64, kernel_size=3, padding=1)\n",
    "        self.pool = nn.MaxPool2d(2, 2)\n",
    "        self.fc1 = nn.Linear(64 * 8 * 8, 128)\n",
    "        self.fc2 = nn.Linear(128, num_classes)\n",
    "\n",
    "    def forward(self, x):\n",
    "        x = self.pool(F.relu(self.conv1(x)))\n",
    "        x = self.pool(F.relu(self.conv2(x)))\n",
    "        x = x.view(x.size(0), -1)\n",
    "        x = F.relu(self.fc1(x))\n",
    "        x = self.fc2(x)\n",
    "        return x"
   ]
  },
  {
   "cell_type": "code",
   "execution_count": 6,
   "id": "b7e3867f",
   "metadata": {},
   "outputs": [],
   "source": [
    "device = torch.device(\"cuda\" if torch.cuda.is_available() else \"cpu\")\n",
    "model = SimpleCNN(num_classes=10).to(device)\n",
    "criterion = nn.CrossEntropyLoss()\n",
    "optimizer = torch.optim.Adam(model.parameters(), lr=0.001)"
   ]
  },
  {
   "cell_type": "code",
   "execution_count": 7,
   "id": "94fa36da",
   "metadata": {},
   "outputs": [
    {
     "name": "stdout",
     "output_type": "stream",
     "text": [
      "Epoch 1, Loss: 2.260616837715616\n",
      "Epoch 2, Loss: 1.9641858059532789\n",
      "Epoch 3, Loss: 1.5521157201455564\n",
      "Epoch 4, Loss: 1.2415808244627349\n",
      "Epoch 5, Loss: 1.0456505284017446\n",
      "Epoch 6, Loss: 0.8932091903929807\n",
      "Epoch 7, Loss: 0.7895599962497244\n",
      "Epoch 8, Loss: 0.6794294836569805\n",
      "Epoch 9, Loss: 0.5888341020564644\n",
      "Epoch 10, Loss: 0.5045538885252816\n",
      "Epoch 11, Loss: 0.4489511950891845\n",
      "Epoch 12, Loss: 0.3977263816157166\n",
      "Epoch 13, Loss: 0.33197792695493117\n",
      "Epoch 14, Loss: 0.29135203863285025\n",
      "Epoch 15, Loss: 0.26279110970849895\n",
      "Epoch 16, Loss: 0.22359778101042826\n",
      "Epoch 17, Loss: 0.19507119131787698\n",
      "Epoch 18, Loss: 0.17654724076998476\n",
      "Epoch 19, Loss: 0.16537073866597243\n",
      "Epoch 20, Loss: 0.1616534200706044\n"
     ]
    }
   ],
   "source": [
    "num_epochs = 20\n",
    "for epoch in range(num_epochs):\n",
    "    model.train()\n",
    "    running_loss = 0.0\n",
    "    for images, labels in dataloader:\n",
    "        images, labels = images.to(device), labels.to(device)\n",
    "        optimizer.zero_grad()\n",
    "        outputs = model(images)\n",
    "        loss = criterion(outputs, labels)\n",
    "        loss.backward()\n",
    "        optimizer.step()\n",
    "        running_loss += loss.item()\n",
    "    print(f\"Epoch {epoch+1}, Loss: {running_loss/len(dataloader)}\")"
   ]
  },
  {
   "cell_type": "code",
   "execution_count": 8,
   "id": "8d17d75d",
   "metadata": {},
   "outputs": [],
   "source": [
    "model.eval()\n",
    "results = []\n",
    "with torch.no_grad():\n",
    "    for images, img_paths in test_loader:\n",
    "        images = images.to(device)\n",
    "        outputs = model(images)\n",
    "        _, preds = torch.max(outputs, 1)\n",
    "        preds = preds.cpu().numpy()\n",
    "        for path, pred in zip(img_paths, preds):\n",
    "            filename = os.path.basename(path)\n",
    "            results.append([filename, int(pred)])\n",
    "\n",
    "with open('WECODE_CNN_10k.csv', 'w', newline='', encoding='utf-8') as f:\n",
    "    writer = csv.writer(f)\n",
    "    writer.writerow(['filename', 'prediction'])\n",
    "    writer.writerows(results)"
   ]
  },
  {
   "cell_type": "code",
   "execution_count": null,
   "id": "eab8df80",
   "metadata": {},
   "outputs": [],
   "source": []
  }
 ],
 "metadata": {
  "kernelspec": {
   "display_name": "Python 3",
   "language": "python",
   "name": "python3"
  },
  "language_info": {
   "codemirror_mode": {
    "name": "ipython",
    "version": 3
   },
   "file_extension": ".py",
   "mimetype": "text/x-python",
   "name": "python",
   "nbconvert_exporter": "python",
   "pygments_lexer": "ipython3",
   "version": "3.13.0"
  }
 },
 "nbformat": 4,
 "nbformat_minor": 5
}
